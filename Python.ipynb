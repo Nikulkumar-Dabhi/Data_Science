{
  "nbformat": 4,
  "nbformat_minor": 0,
  "metadata": {
    "colab": {
      "provenance": [],
      "authorship_tag": "ABX9TyObdCQxd2E7DhBrjFxhgUUN",
      "include_colab_link": true
    },
    "kernelspec": {
      "name": "python3",
      "display_name": "Python 3"
    },
    "language_info": {
      "name": "python"
    }
  },
  "cells": [
    {
      "cell_type": "markdown",
      "metadata": {
        "id": "view-in-github",
        "colab_type": "text"
      },
      "source": [
        "<a href=\"https://colab.research.google.com/github/Nikulkumar-Dabhi/Data_Science/blob/main/Python.ipynb\" target=\"_parent\"><img src=\"https://colab.research.google.com/assets/colab-badge.svg\" alt=\"Open In Colab\"/></a>"
      ]
    },
    {
      "cell_type": "markdown",
      "source": [
        "1. Print #Hello World"
      ],
      "metadata": {
        "id": "JEoCjNk8tkyn"
      }
    },
    {
      "source": [
        "print(\"Hello, world!\")"
      ],
      "cell_type": "code",
      "metadata": {
        "colab": {
          "base_uri": "https://localhost:8080/"
        },
        "id": "9HNrQuO_tjKS",
        "outputId": "c1d8d9e9-65db-4e10-ab31-142791ce6dc8"
      },
      "execution_count": null,
      "outputs": [
        {
          "output_type": "stream",
          "name": "stdout",
          "text": [
            "Hello, world!\n"
          ]
        }
      ]
    },
    {
      "cell_type": "markdown",
      "source": [
        "Variables and Data Types"
      ],
      "metadata": {
        "id": "jLIusjkdttue"
      }
    },
    {
      "source": [
        "name = \"Alice\"  # String\n",
        "age = 30       # Integer\n",
        "height = 5.8    # Float\n",
        "is_student = True # Boolean\n",
        "\n",
        "print(name, age, height, is_student)"
      ],
      "cell_type": "code",
      "metadata": {
        "colab": {
          "base_uri": "https://localhost:8080/"
        },
        "id": "lvhBB4VOtvGI",
        "outputId": "36312af6-b076-41de-d72e-7bcb14b98668"
      },
      "execution_count": null,
      "outputs": [
        {
          "output_type": "stream",
          "name": "stdout",
          "text": [
            "Alice 30 5.8 True\n"
          ]
        }
      ]
    },
    {
      "cell_type": "markdown",
      "source": [
        "Basic Arithmetic Operations"
      ],
      "metadata": {
        "id": "Gmxh_0Xct-JP"
      }
    },
    {
      "source": [
        "a = 10\n",
        "b = 5\n",
        "\n",
        "sum = a + b\n",
        "difference = a - b\n",
        "product = a * b\n",
        "quotient = a / b\n",
        "\n",
        "print(sum, difference, product, quotient)"
      ],
      "cell_type": "code",
      "metadata": {
        "colab": {
          "base_uri": "https://localhost:8080/"
        },
        "id": "WM1rzkUvt_FX",
        "outputId": "88b04856-f642-4ba5-e2af-dcc80163dd8b"
      },
      "execution_count": null,
      "outputs": [
        {
          "output_type": "stream",
          "name": "stdout",
          "text": [
            "15 5 50 2.0\n"
          ]
        }
      ]
    },
    {
      "cell_type": "markdown",
      "source": [
        "Conditional Statements"
      ],
      "metadata": {
        "id": "9qEbZ_zIuENt"
      }
    },
    {
      "source": [
        "age = 20\n",
        "\n",
        "if age >= 21:\n",
        "  print(\"You are an adult.\")\n",
        "else:\n",
        "  print(\"You are a minor.\")"
      ],
      "cell_type": "code",
      "metadata": {
        "colab": {
          "base_uri": "https://localhost:8080/"
        },
        "id": "jI2aOzVsuHRW",
        "outputId": "f8275db4-dc9b-45ab-da35-0579d1af75d8"
      },
      "execution_count": null,
      "outputs": [
        {
          "output_type": "stream",
          "name": "stdout",
          "text": [
            "You are a minor.\n"
          ]
        }
      ]
    },
    {
      "cell_type": "markdown",
      "source": [
        " Loops"
      ],
      "metadata": {
        "id": "NZRYdD8KuIHa"
      }
    },
    {
      "source": [
        "for i in range(5):\n",
        "  for j in range(i+1):\n",
        "    print(i,j)"
      ],
      "cell_type": "code",
      "metadata": {
        "colab": {
          "base_uri": "https://localhost:8080/"
        },
        "id": "xVbdY2qUuR_8",
        "outputId": "0e847b2f-47fb-491a-87b0-9f3854fbf821"
      },
      "execution_count": null,
      "outputs": [
        {
          "output_type": "stream",
          "name": "stdout",
          "text": [
            "0 0\n",
            "1 0\n",
            "1 1\n",
            "2 0\n",
            "2 1\n",
            "2 2\n",
            "3 0\n",
            "3 1\n",
            "3 2\n",
            "3 3\n",
            "4 0\n",
            "4 1\n",
            "4 2\n",
            "4 3\n",
            "4 4\n"
          ]
        }
      ]
    },
    {
      "cell_type": "markdown",
      "source": [
        "Functions"
      ],
      "metadata": {
        "id": "b-U9TkqnvL9I"
      }
    },
    {
      "cell_type": "code",
      "source": [
        "def greet(name):\n",
        "  \"\"\"This function greets the person passed in as a parameter.\"\"\"\n",
        "  print(f\"Hello, {name}!\")\n",
        "\n",
        "greet(\"Alice\")  # Calling the function"
      ],
      "metadata": {
        "colab": {
          "base_uri": "https://localhost:8080/"
        },
        "id": "YTgloL2DvNwt",
        "outputId": "8c05a1bc-8260-4daf-9043-859f9a6c621b"
      },
      "execution_count": null,
      "outputs": [
        {
          "output_type": "stream",
          "name": "stdout",
          "text": [
            "Hello, Alice!\n"
          ]
        }
      ]
    },
    {
      "cell_type": "code",
      "source": [
        "# prompt: another fucntion to print number of * based on input\n",
        "\n",
        "def print_stars(num_stars):\n",
        "  \"\"\"Prints a specified number of asterisks.\"\"\"\n",
        "  print(\"*\" * num_stars)\n",
        "\n",
        "\n",
        "# Get input from the user\n",
        "num_stars = int(input(\"Enter the number of stars to print: \"))\n",
        "\n",
        "# Call the function to print the stars\n",
        "print_stars(num_stars)\n"
      ],
      "metadata": {
        "id": "ve93hWMbvYYi",
        "colab": {
          "base_uri": "https://localhost:8080/"
        },
        "outputId": "1bc59503-e724-400a-ef1a-37b9efd49899"
      },
      "execution_count": 18,
      "outputs": [
        {
          "output_type": "stream",
          "name": "stdout",
          "text": [
            "Enter the number of stars to print: 4\n",
            "****\n"
          ]
        }
      ]
    },
    {
      "cell_type": "markdown",
      "source": [
        "Lists: Ordered, mutable (changeable) collections of items."
      ],
      "metadata": {
        "id": "aIc3wAV3vscI"
      }
    },
    {
      "source": [
        "my_list = [1, 2, 3, \"apple\", \"banana\"]\n",
        "print(my_list[2])  # Accessing elements by index\n",
        "my_list.append(\"orange\")  # Adding an element\n",
        "print(my_list[-1])"
      ],
      "cell_type": "code",
      "metadata": {
        "id": "Xt9J65hRvuSg",
        "outputId": "a9a3f226-0aff-4339-f7a3-58b78f9cb37a",
        "colab": {
          "base_uri": "https://localhost:8080/"
        }
      },
      "execution_count": 25,
      "outputs": [
        {
          "output_type": "stream",
          "name": "stdout",
          "text": [
            "3\n",
            "orange\n"
          ]
        }
      ]
    },
    {
      "cell_type": "markdown",
      "source": [
        "Tuples: Ordered, immutable (unchangeable) collections of items."
      ],
      "metadata": {
        "id": "GtZ2kjQDwJON"
      }
    },
    {
      "source": [
        "my_tuple = (1, 2, 3, \"apple\", \"banana\")\n",
        "print(my_tuple[1])  # Accessing elements by index"
      ],
      "cell_type": "code",
      "metadata": {
        "id": "Z5chbbX5wKR4",
        "outputId": "616fa550-3e9f-46ed-df6b-bfd12e1820a9",
        "colab": {
          "base_uri": "https://localhost:8080/"
        }
      },
      "execution_count": 27,
      "outputs": [
        {
          "output_type": "stream",
          "name": "stdout",
          "text": [
            "2\n"
          ]
        }
      ]
    },
    {
      "cell_type": "markdown",
      "source": [
        "Dictionaries: Collections of key-value pairs."
      ],
      "metadata": {
        "id": "5YjtxQYRwPgz"
      }
    },
    {
      "source": [
        "my_dict = {\"name\": \"Alice\", \"age\": 30, \"city\": \"New York\"}\n",
        "print(my_dict[\"name\"])  # Accessing values by key\n",
        "my_dict[\"occupation\"] = \"Engineer\"  # Adding a new key-value pair\n",
        "print(my_dict[\"occupation\"])"
      ],
      "cell_type": "code",
      "metadata": {
        "id": "4yzYZsffwQpT",
        "outputId": "4cfb53b9-9fd3-499f-f752-139d021a18e6",
        "colab": {
          "base_uri": "https://localhost:8080/"
        }
      },
      "execution_count": 30,
      "outputs": [
        {
          "output_type": "stream",
          "name": "stdout",
          "text": [
            "Alice\n",
            "Engineer\n"
          ]
        }
      ]
    },
    {
      "cell_type": "code",
      "source": [],
      "metadata": {
        "id": "OJ81U1kMwSoF"
      },
      "execution_count": null,
      "outputs": []
    }
  ]
}