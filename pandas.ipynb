{
  "nbformat": 4,
  "nbformat_minor": 0,
  "metadata": {
    "colab": {
      "provenance": [],
      "authorship_tag": "ABX9TyNj/q4tl3cVs/rQ3ZQ8TS4m",
      "include_colab_link": true
    },
    "kernelspec": {
      "name": "python3",
      "display_name": "Python 3"
    },
    "language_info": {
      "name": "python"
    }
  },
  "cells": [
    {
      "cell_type": "markdown",
      "metadata": {
        "id": "view-in-github",
        "colab_type": "text"
      },
      "source": [
        "<a href=\"https://colab.research.google.com/github/Nikulkumar-Dabhi/Data_Science/blob/main/pandas.ipynb\" target=\"_parent\"><img src=\"https://colab.research.google.com/assets/colab-badge.svg\" alt=\"Open In Colab\"/></a>"
      ]
    },
    {
      "cell_type": "markdown",
      "source": [
        "**Pandas** is a powerful and widely-used Python library for data analysis and manipulation. It provides data structures like DataFrames and Series that make it easy to work with structured data, such as tables and time series."
      ],
      "metadata": {
        "id": "rgTsdz2pxQ5x"
      }
    },
    {
      "cell_type": "markdown",
      "source": [
        "1. Installation"
      ],
      "metadata": {
        "id": "KlYDpoFk3_Ne"
      }
    },
    {
      "cell_type": "code",
      "source": [
        "pip install pandas"
      ],
      "metadata": {
        "colab": {
          "base_uri": "https://localhost:8080/"
        },
        "id": "KFO0pZ2i4HzV",
        "outputId": "939ed3e1-42ac-4b2c-a876-6b047ca80831"
      },
      "execution_count": 1,
      "outputs": [
        {
          "output_type": "stream",
          "name": "stdout",
          "text": [
            "Requirement already satisfied: pandas in /usr/local/lib/python3.11/dist-packages (2.2.2)\n",
            "Requirement already satisfied: numpy>=1.23.2 in /usr/local/lib/python3.11/dist-packages (from pandas) (2.0.2)\n",
            "Requirement already satisfied: python-dateutil>=2.8.2 in /usr/local/lib/python3.11/dist-packages (from pandas) (2.8.2)\n",
            "Requirement already satisfied: pytz>=2020.1 in /usr/local/lib/python3.11/dist-packages (from pandas) (2025.1)\n",
            "Requirement already satisfied: tzdata>=2022.7 in /usr/local/lib/python3.11/dist-packages (from pandas) (2025.1)\n",
            "Requirement already satisfied: six>=1.5 in /usr/local/lib/python3.11/dist-packages (from python-dateutil>=2.8.2->pandas) (1.17.0)\n"
          ]
        }
      ]
    },
    {
      "cell_type": "markdown",
      "source": [
        "2. Importing Pandas"
      ],
      "metadata": {
        "id": "U4KGT3At4KxX"
      }
    },
    {
      "cell_type": "code",
      "source": [
        "import pandas as pd"
      ],
      "metadata": {
        "id": "HJk9swqI4PI0"
      },
      "execution_count": 2,
      "outputs": []
    },
    {
      "cell_type": "markdown",
      "source": [],
      "metadata": {
        "id": "DAhViXg8xQ18"
      }
    },
    {
      "cell_type": "markdown",
      "source": [
        "3. Data Structures: Series and DataFrames"
      ],
      "metadata": {
        "id": "khdKGEpc4S2L"
      }
    },
    {
      "cell_type": "markdown",
      "source": [
        "Series: A one-dimensional labeled array capable of holding any data type. Think of it like a column in a table."
      ],
      "metadata": {
        "id": "XdDnMMPV4Wmo"
      }
    },
    {
      "source": [
        "\n",
        "# Creating a Series from a list\n",
        "data = [10, 20, 30, 40, 50]\n",
        "series = pd.Series(data)\n",
        "print(series)"
      ],
      "cell_type": "code",
      "metadata": {
        "colab": {
          "base_uri": "https://localhost:8080/"
        },
        "id": "gf44gpCo4epi",
        "outputId": "68694e41-4f15-4d55-8088-2c6b81352976"
      },
      "execution_count": 3,
      "outputs": [
        {
          "output_type": "stream",
          "name": "stdout",
          "text": [
            "0    10\n",
            "1    20\n",
            "2    30\n",
            "3    40\n",
            "4    50\n",
            "dtype: int64\n"
          ]
        }
      ]
    },
    {
      "cell_type": "markdown",
      "source": [
        "DataFrame: A two-dimensional table-like structure with rows and columns. It's the most commonly used data structure in Pandas."
      ],
      "metadata": {
        "id": "p6gswQEJ4mj_"
      }
    },
    {
      "cell_type": "code",
      "source": [],
      "metadata": {
        "id": "lWaPTBHT4TSr"
      },
      "execution_count": null,
      "outputs": []
    },
    {
      "source": [
        "# Creating a DataFrame from a dictionary\n",
        "data = {'Name': ['Alice', 'Bob', 'Charlie'],\n",
        "        'Age': [25, 30, 28],\n",
        "        'City': ['New York', 'London', 'Paris']}\n",
        "df = pd.DataFrame(data)\n",
        "print(df)"
      ],
      "cell_type": "code",
      "metadata": {
        "colab": {
          "base_uri": "https://localhost:8080/"
        },
        "id": "MUXymL9q4pkD",
        "outputId": "0deb4b42-aa1d-4e3d-c298-7efe691fd8f1"
      },
      "execution_count": 4,
      "outputs": [
        {
          "output_type": "stream",
          "name": "stdout",
          "text": [
            "      Name  Age      City\n",
            "0    Alice   25  New York\n",
            "1      Bob   30    London\n",
            "2  Charlie   28     Paris\n"
          ]
        }
      ]
    },
    {
      "cell_type": "markdown",
      "source": [
        "Generating Sample CSV"
      ],
      "metadata": {
        "id": "yugg6ba_5Uhc"
      }
    },
    {
      "source": [
        "import csv\n",
        "import random\n",
        "\n",
        "# Define the number of students and courses\n",
        "num_students = 100\n",
        "num_courses = 6\n",
        "\n",
        "# Create a list to store the data\n",
        "data = []\n",
        "\n",
        "# Generate data for each student\n",
        "for i in range(num_students):\n",
        "    roll_number = i + 1  # Assign roll numbers sequentially\n",
        "    scores = [random.randint(0, 100) for _ in range(num_courses)]  # Generate random scores\n",
        "    data.append([roll_number] + scores)  # Add roll number and scores to the data list\n",
        "\n",
        "# Define the header row\n",
        "header = ['Roll Number'] + [f'Course {j}' for j in range(1, num_courses + 1)]\n",
        "import csv\n",
        "import random\n",
        "\n",
        "# Define the number of students and courses\n",
        "num_students = 100\n",
        "num_courses = 6\n",
        "\n",
        "# Create a list to store the data\n",
        "data = []\n",
        "\n",
        "# Generate data for each student\n",
        "for i in range(num_students):\n",
        "    roll_number = i + 1  # Assign roll numbers sequentially\n",
        "    scores = [random.randint(0, 100) for _ in range(num_courses)]  # Generate random scores\n",
        "    data.append([roll_number] + scores)  # Add roll number and scores to the data list\n",
        "\n",
        "# Define the header row\n",
        "header = ['Roll Number'] + [f'Course {j}' for j in range(1, num_courses + 1)]\n",
        "\n",
        "# Write the data to a CSV file\n",
        "with open('student_scores.csv', 'w', newline='') as csvfile:\n",
        "    writer = csv.writer(csvfile)\n",
        "    writer.writerow(header)\n",
        "    writer.writerows(data)"
      ],
      "cell_type": "code",
      "metadata": {
        "id": "wApx885O5R1N"
      },
      "execution_count": 8,
      "outputs": []
    },
    {
      "cell_type": "markdown",
      "source": [
        "4. Reading and Writing Data\n",
        "\n",
        "Pandas allows you to easily read and write data from various file formats like CSV, Excel, and more."
      ],
      "metadata": {
        "id": "exBr-2p340oT"
      }
    },
    {
      "cell_type": "code",
      "source": [
        "# Reading a CSV file into a DataFrame\n",
        "df = pd.read_csv('student_scores.csv')  # Replace 'your_file.csv' with the actual file path\n",
        "print(df)"
      ],
      "metadata": {
        "colab": {
          "base_uri": "https://localhost:8080/"
        },
        "id": "urp1lWwR5ASZ",
        "outputId": "086f002b-5339-4dc5-8d43-df5cb269fdf9"
      },
      "execution_count": 9,
      "outputs": [
        {
          "output_type": "stream",
          "name": "stdout",
          "text": [
            "    Roll Number  Course 1  Course 2  Course 3  Course 4  Course 5  Course 6\n",
            "0             1        34        24        23         5        62        37\n",
            "1             2        45        72        20        77        78        10\n",
            "2             3        37        75        26        12        84        17\n",
            "3             4        65        66        74        26        38        65\n",
            "4             5        42        83        85        76        13        79\n",
            "..          ...       ...       ...       ...       ...       ...       ...\n",
            "95           96        37        62        95        96        31        77\n",
            "96           97        46        69        83        23        49        69\n",
            "97           98        38        89        45        27        98        23\n",
            "98           99        63        56        63        68        31        93\n",
            "99          100        94        96         4        38        12        88\n",
            "\n",
            "[100 rows x 7 columns]\n"
          ]
        }
      ]
    },
    {
      "cell_type": "markdown",
      "source": [
        "5. Basic Data Exploration"
      ],
      "metadata": {
        "id": "7rEQ87pF5sk3"
      }
    },
    {
      "cell_type": "markdown",
      "source": [
        "head() and tail(): Display the first or last few rows of the DataFrame."
      ],
      "metadata": {
        "id": "UwzMH_eR5vX5"
      }
    },
    {
      "cell_type": "code",
      "source": [
        "# Display the first 5 rows\n",
        "print(df.head(1))\n",
        "\n",
        "# Display the last 3 rows\n",
        "print(df.tail(3))"
      ],
      "metadata": {
        "colab": {
          "base_uri": "https://localhost:8080/"
        },
        "id": "u1xgQh8K5xkI",
        "outputId": "4bc8e54e-b4c6-4860-ef9c-707a2b0c40c4"
      },
      "execution_count": 11,
      "outputs": [
        {
          "output_type": "stream",
          "name": "stdout",
          "text": [
            "   Roll Number  Course 1  Course 2  Course 3  Course 4  Course 5  Course 6\n",
            "0            1        34        24        23         5        62        37\n",
            "    Roll Number  Course 1  Course 2  Course 3  Course 4  Course 5  Course 6\n",
            "97           98        38        89        45        27        98        23\n",
            "98           99        63        56        63        68        31        93\n",
            "99          100        94        96         4        38        12        88\n"
          ]
        }
      ]
    },
    {
      "cell_type": "markdown",
      "source": [
        "info(): Get a summary of the DataFrame, including data types and missing values."
      ],
      "metadata": {
        "id": "6NH_H-ZX53MR"
      }
    },
    {
      "source": [
        "print(df.info())"
      ],
      "cell_type": "code",
      "metadata": {
        "colab": {
          "base_uri": "https://localhost:8080/"
        },
        "id": "RQoWP-3754HI",
        "outputId": "91bd7acb-1a98-4724-f712-dd824ab94290"
      },
      "execution_count": 13,
      "outputs": [
        {
          "output_type": "stream",
          "name": "stdout",
          "text": [
            "<class 'pandas.core.frame.DataFrame'>\n",
            "RangeIndex: 100 entries, 0 to 99\n",
            "Data columns (total 7 columns):\n",
            " #   Column       Non-Null Count  Dtype\n",
            "---  ------       --------------  -----\n",
            " 0   Roll Number  100 non-null    int64\n",
            " 1   Course 1     100 non-null    int64\n",
            " 2   Course 2     100 non-null    int64\n",
            " 3   Course 3     100 non-null    int64\n",
            " 4   Course 4     100 non-null    int64\n",
            " 5   Course 5     100 non-null    int64\n",
            " 6   Course 6     100 non-null    int64\n",
            "dtypes: int64(7)\n",
            "memory usage: 5.6 KB\n",
            "None\n"
          ]
        }
      ]
    },
    {
      "cell_type": "markdown",
      "source": [
        "describe(): Get descriptive statistics of numerical columns."
      ],
      "metadata": {
        "id": "OBZMl5E86MRy"
      }
    },
    {
      "source": [
        "print(df.describe())"
      ],
      "cell_type": "code",
      "metadata": {
        "colab": {
          "base_uri": "https://localhost:8080/"
        },
        "id": "poRtLCkI6N7A",
        "outputId": "d3399e52-2c65-4d98-e132-4c6a8162dcfd"
      },
      "execution_count": 16,
      "outputs": [
        {
          "output_type": "stream",
          "name": "stdout",
          "text": [
            "       Roll Number   Course 1    Course 2    Course 3    Course 4    Course 5  \\\n",
            "count   100.000000  100.00000  100.000000  100.000000  100.000000  100.000000   \n",
            "mean     50.500000   55.11000   49.540000   48.670000   44.570000   49.930000   \n",
            "std      29.011492   28.37551   30.005191   30.712763   29.669647   28.132534   \n",
            "min       1.000000    1.00000    0.000000    0.000000    0.000000    0.000000   \n",
            "25%      25.750000   29.00000   24.750000   22.750000   17.500000   29.000000   \n",
            "50%      50.500000   55.50000   50.500000   45.500000   39.500000   45.000000   \n",
            "75%      75.250000   81.00000   75.000000   78.250000   69.000000   75.000000   \n",
            "max     100.000000  100.00000  100.000000  100.000000  100.000000  100.000000   \n",
            "\n",
            "         Course 6  \n",
            "count  100.000000  \n",
            "mean    49.940000  \n",
            "std     29.914633  \n",
            "min      1.000000  \n",
            "25%     23.000000  \n",
            "50%     47.000000  \n",
            "75%     77.000000  \n",
            "max     99.000000  \n"
          ]
        }
      ]
    },
    {
      "cell_type": "markdown",
      "source": [
        "6. Data Selection and Manipulation"
      ],
      "metadata": {
        "id": "lN81T9Sd61t9"
      }
    },
    {
      "cell_type": "markdown",
      "source": [
        "Pandas offers various ways to select and manipulate data within a DataFrame:"
      ],
      "metadata": {
        "id": "n85IvmcE68_I"
      }
    },
    {
      "cell_type": "markdown",
      "source": [
        "Selecting Columns: Access columns by name using square brackets or dot notation."
      ],
      "metadata": {
        "id": "Nzpvlj0Q6-CE"
      }
    },
    {
      "cell_type": "code",
      "source": [],
      "metadata": {
        "id": "woR9Xday6OOh"
      },
      "execution_count": null,
      "outputs": []
    },
    {
      "source": [
        "# Selecting a single column\n",
        "names = df['Roll Number']  # or df.Name\n",
        "print(names)\n",
        "\n",
        "# Selecting multiple columns\n",
        "age_and_city = df[['Course 1', 'Course 2']]\n",
        "print(age_and_city)"
      ],
      "cell_type": "code",
      "metadata": {
        "colab": {
          "base_uri": "https://localhost:8080/"
        },
        "id": "eQesUkSx6_AC",
        "outputId": "586d1a20-93ff-4978-8ba5-4f7070b0f122"
      },
      "execution_count": 21,
      "outputs": [
        {
          "output_type": "stream",
          "name": "stdout",
          "text": [
            "0       1\n",
            "1       2\n",
            "2       3\n",
            "3       4\n",
            "4       5\n",
            "     ... \n",
            "95     96\n",
            "96     97\n",
            "97     98\n",
            "98     99\n",
            "99    100\n",
            "Name: Roll Number, Length: 100, dtype: int64\n",
            "    Course 1  Course 2\n",
            "0         34        24\n",
            "1         45        72\n",
            "2         37        75\n",
            "3         65        66\n",
            "4         42        83\n",
            "..       ...       ...\n",
            "95        37        62\n",
            "96        46        69\n",
            "97        38        89\n",
            "98        63        56\n",
            "99        94        96\n",
            "\n",
            "[100 rows x 2 columns]\n"
          ]
        }
      ]
    },
    {
      "cell_type": "markdown",
      "source": [
        "Filtering Rows: Use boolean indexing to filter rows based on conditions."
      ],
      "metadata": {
        "id": "XltXh52y7rAW"
      }
    },
    {
      "source": [
        "# Filter rows where Age is greater than 28\n",
        "filtered_df = df[df['Roll Number'] > 28]\n",
        "print(filtered_df)"
      ],
      "cell_type": "code",
      "metadata": {
        "colab": {
          "base_uri": "https://localhost:8080/"
        },
        "id": "u9zSAfdW7mHI",
        "outputId": "0ec34dbc-6a3e-44aa-8934-320ad13fe87f"
      },
      "execution_count": 23,
      "outputs": [
        {
          "output_type": "stream",
          "name": "stdout",
          "text": [
            "    Roll Number  Course 1  Course 2  Course 3  Course 4  Course 5  Course 6\n",
            "28           29        77        14        74        21        20        41\n",
            "29           30        93        86        13        68        80        79\n",
            "30           31        86        31        72        30        74        73\n",
            "31           32        94         3        16        98        27        69\n",
            "32           33        36         8        12        20        10         2\n",
            "..          ...       ...       ...       ...       ...       ...       ...\n",
            "95           96        37        62        95        96        31        77\n",
            "96           97        46        69        83        23        49        69\n",
            "97           98        38        89        45        27        98        23\n",
            "98           99        63        56        63        68        31        93\n",
            "99          100        94        96         4        38        12        88\n",
            "\n",
            "[72 rows x 7 columns]\n"
          ]
        }
      ]
    },
    {
      "cell_type": "markdown",
      "source": [
        "Sorting: Sort the DataFrame by one or more columns.\n",
        "\n",
        "\n"
      ],
      "metadata": {
        "id": "TK1JJJHu7zFN"
      }
    },
    {
      "source": [
        "# Sort by Age in ascending order\n",
        "sorted_df = df.sort_values(by=['Course 3'])\n",
        "print(sorted_df)"
      ],
      "cell_type": "code",
      "metadata": {
        "colab": {
          "base_uri": "https://localhost:8080/"
        },
        "id": "mezNB8UI76XS",
        "outputId": "f998359a-2865-4525-e143-4c9c11373e76"
      },
      "execution_count": 25,
      "outputs": [
        {
          "output_type": "stream",
          "name": "stdout",
          "text": [
            "    Roll Number  Course 1  Course 2  Course 3  Course 4  Course 5  Course 6\n",
            "11           12        11        40         0        19        18        96\n",
            "57           58         7        49         1        23        30        38\n",
            "68           69        92        32         1         7        19        24\n",
            "67           68         9        89         3        40        87         7\n",
            "99          100        94        96         4        38        12        88\n",
            "..          ...       ...       ...       ...       ...       ...       ...\n",
            "95           96        37        62        95        96        31        77\n",
            "61           62         8         9        97         5        36        53\n",
            "48           49        87        76        98        38        78        21\n",
            "56           57        84        94       100        32        93         8\n",
            "20           21       100         5       100        14        12        49\n",
            "\n",
            "[100 rows x 7 columns]\n"
          ]
        }
      ]
    }
  ]
}