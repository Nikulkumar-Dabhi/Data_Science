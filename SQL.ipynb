{
  "nbformat": 4,
  "nbformat_minor": 0,
  "metadata": {
    "colab": {
      "provenance": [],
      "authorship_tag": "ABX9TyNI1jYEBxVYBMWMUgQcDWyj",
      "include_colab_link": true
    },
    "kernelspec": {
      "name": "python3",
      "display_name": "Python 3"
    },
    "language_info": {
      "name": "python"
    }
  },
  "cells": [
    {
      "cell_type": "markdown",
      "metadata": {
        "id": "view-in-github",
        "colab_type": "text"
      },
      "source": [
        "<a href=\"https://colab.research.google.com/github/Nikulkumar-Dabhi/Data_Science/blob/main/SQL.ipynb\" target=\"_parent\"><img src=\"https://colab.research.google.com/assets/colab-badge.svg\" alt=\"Open In Colab\"/></a>"
      ]
    },
    {
      "cell_type": "code",
      "execution_count": 1,
      "metadata": {
        "colab": {
          "base_uri": "https://localhost:8080/"
        },
        "id": "xCC6SJUIxjqs",
        "outputId": "4f758222-9887-47f5-c8f4-ee35fe03c702"
      },
      "outputs": [
        {
          "output_type": "stream",
          "name": "stdout",
          "text": [
            "--2025-03-26 00:09:25--  https://raw.githubusercontent.com/microsoft/sql-server-samples/master/samples/databases/adventure-works/oltp-install-script/Employee.csv\n",
            "Resolving raw.githubusercontent.com (raw.githubusercontent.com)... 185.199.108.133, 185.199.109.133, 185.199.110.133, ...\n",
            "Connecting to raw.githubusercontent.com (raw.githubusercontent.com)|185.199.108.133|:443... connected.\n",
            "HTTP request sent, awaiting response... 200 OK\n",
            "Length: 96028 (94K) [text/plain]\n",
            "Saving to: ‘Employee.csv’\n",
            "\n",
            "Employee.csv        100%[===================>]  93.78K  --.-KB/s    in 0.02s   \n",
            "\n",
            "2025-03-26 00:09:25 (3.78 MB/s) - ‘Employee.csv’ saved [96028/96028]\n",
            "\n"
          ]
        }
      ],
      "source": [
        "!wget https://raw.githubusercontent.com/microsoft/sql-server-samples/master/samples/databases/adventure-works/oltp-install-script/Employee.csv -O Employee.csv\n"
      ]
    },
    {
      "cell_type": "markdown",
      "source": [
        "#installing needed libraries"
      ],
      "metadata": {
        "id": "sr5lShIsyR5u"
      }
    },
    {
      "cell_type": "code",
      "source": [
        "!pip install pandasql\n",
        "import pandas as pd\n",
        "import pandasql as ps\n",
        "\n"
      ],
      "metadata": {
        "colab": {
          "base_uri": "https://localhost:8080/"
        },
        "id": "SygajhegyJ77",
        "outputId": "bd437f1e-35e4-4b2b-ef63-faeea74cb0df"
      },
      "execution_count": 4,
      "outputs": [
        {
          "output_type": "stream",
          "name": "stdout",
          "text": [
            "Collecting pandasql\n",
            "  Downloading pandasql-0.7.3.tar.gz (26 kB)\n",
            "  Preparing metadata (setup.py) ... \u001b[?25l\u001b[?25hdone\n",
            "Requirement already satisfied: numpy in /usr/local/lib/python3.11/dist-packages (from pandasql) (2.0.2)\n",
            "Requirement already satisfied: pandas in /usr/local/lib/python3.11/dist-packages (from pandasql) (2.2.2)\n",
            "Requirement already satisfied: sqlalchemy in /usr/local/lib/python3.11/dist-packages (from pandasql) (2.0.39)\n",
            "Requirement already satisfied: python-dateutil>=2.8.2 in /usr/local/lib/python3.11/dist-packages (from pandas->pandasql) (2.8.2)\n",
            "Requirement already satisfied: pytz>=2020.1 in /usr/local/lib/python3.11/dist-packages (from pandas->pandasql) (2025.1)\n",
            "Requirement already satisfied: tzdata>=2022.7 in /usr/local/lib/python3.11/dist-packages (from pandas->pandasql) (2025.1)\n",
            "Requirement already satisfied: greenlet!=0.4.17 in /usr/local/lib/python3.11/dist-packages (from sqlalchemy->pandasql) (3.1.1)\n",
            "Requirement already satisfied: typing-extensions>=4.6.0 in /usr/local/lib/python3.11/dist-packages (from sqlalchemy->pandasql) (4.12.2)\n",
            "Requirement already satisfied: six>=1.5 in /usr/local/lib/python3.11/dist-packages (from python-dateutil>=2.8.2->pandas->pandasql) (1.17.0)\n",
            "Building wheels for collected packages: pandasql\n",
            "  Building wheel for pandasql (setup.py) ... \u001b[?25l\u001b[?25hdone\n",
            "  Created wheel for pandasql: filename=pandasql-0.7.3-py3-none-any.whl size=26772 sha256=417e6fc17fbf46ec398388b0f33a712450aac37b708c0475e2ed7e6394c73702\n",
            "  Stored in directory: /root/.cache/pip/wheels/68/5d/a5/edc271b998f909801d7956959f699b976cc9896075dc47c153\n",
            "Successfully built pandasql\n",
            "Installing collected packages: pandasql\n",
            "Successfully installed pandasql-0.7.3\n"
          ]
        }
      ]
    },
    {
      "cell_type": "code",
      "source": [
        "df = pd.read_csv('Employee.csv', encoding='utf-16')\n"
      ],
      "metadata": {
        "id": "AJflV3fTyDfu"
      },
      "execution_count": 6,
      "outputs": []
    },
    {
      "cell_type": "code",
      "source": [
        "query = \"SELECT * FROM df LIMIT 10;\"\n",
        "result = ps.sqldf(query, locals())\n",
        "print(result)\n"
      ],
      "metadata": {
        "colab": {
          "base_uri": "https://localhost:8080/"
        },
        "id": "dEf7OS9Lye-5",
        "outputId": "4830fca7-c519-4614-bc8f-f453a52dec67"
      },
      "execution_count": 7,
      "outputs": [
        {
          "output_type": "stream",
          "name": "stdout",
          "text": [
            "  1\\t295847284\\tadventure-works\\ken0\\t\\t0\\tChief Executive Officer\\t1969-01-29\\tS\\tM\\t2009-01-14\\t1\\t99\\t69\\t1\\tF01251E5-96A3-448D-981E-0F99D789110D\\t2014-06-30 00:00:00\n",
            "0  2\\t245797967\\tadventure-works\\terri0\\t58\\t1\\tV...                                                                                                                     \n",
            "1  3\\t509647174\\tadventure-works\\roberto0\\t5AC0\\t...                                                                                                                     \n",
            "2  4\\t112457891\\tadventure-works\\rob0\\t5AD6\\t3\\tS...                                                                                                                     \n",
            "3  5\\t695256908\\tadventure-works\\gail0\\t5ADA\\t3\\t...                                                                                                                     \n",
            "4  6\\t998320692\\tadventure-works\\jossef0\\t5ADE\\t3...                                                                                                                     \n",
            "5  7\\t134969118\\tadventure-works\\dylan0\\t5AE1\\t3\\...                                                                                                                     \n",
            "6  8\\t811994146\\tadventure-works\\diane1\\t5AE158\\t...                                                                                                                     \n",
            "7  9\\t658797903\\tadventure-works\\gigi0\\t5AE168\\t4...                                                                                                                     \n",
            "8  10\\t879342154\\tadventure-works\\michael6\\t5AE17...                                                                                                                     \n",
            "9  11\\t974026903\\tadventure-works\\ovidiu0\\t5AE3\\t...                                                                                                                     \n"
          ]
        }
      ]
    },
    {
      "cell_type": "code",
      "source": [
        "query = \"SELECT * FROM df LIMIT 10;\"\n",
        "result = ps.sqldf(query, locals())\n",
        "print(result)\n",
        "\n"
      ],
      "metadata": {
        "colab": {
          "base_uri": "https://localhost:8080/"
        },
        "id": "K2oFoBi3y-UZ",
        "outputId": "31b476c7-33df-4399-df49-7cd773871327"
      },
      "execution_count": 14,
      "outputs": [
        {
          "output_type": "stream",
          "name": "stdout",
          "text": [
            "  1\\t295847284\\tadventure-works\\ken0\\t\\t0\\tChief Executive Officer\\t1969-01-29\\tS\\tM\\t2009-01-14\\t1\\t99\\t69\\t1\\tF01251E5-96A3-448D-981E-0F99D789110D\\t2014-06-30 00:00:00\n",
            "0  2\\t245797967\\tadventure-works\\terri0\\t58\\t1\\tV...                                                                                                                     \n",
            "1  3\\t509647174\\tadventure-works\\roberto0\\t5AC0\\t...                                                                                                                     \n",
            "2  4\\t112457891\\tadventure-works\\rob0\\t5AD6\\t3\\tS...                                                                                                                     \n",
            "3  5\\t695256908\\tadventure-works\\gail0\\t5ADA\\t3\\t...                                                                                                                     \n",
            "4  6\\t998320692\\tadventure-works\\jossef0\\t5ADE\\t3...                                                                                                                     \n",
            "5  7\\t134969118\\tadventure-works\\dylan0\\t5AE1\\t3\\...                                                                                                                     \n",
            "6  8\\t811994146\\tadventure-works\\diane1\\t5AE158\\t...                                                                                                                     \n",
            "7  9\\t658797903\\tadventure-works\\gigi0\\t5AE168\\t4...                                                                                                                     \n",
            "8  10\\t879342154\\tadventure-works\\michael6\\t5AE17...                                                                                                                     \n",
            "9  11\\t974026903\\tadventure-works\\ovidiu0\\t5AE3\\t...                                                                                                                     \n"
          ]
        }
      ]
    },
    {
      "cell_type": "code",
      "source": [
        "query = \"SELECT Name, Age, Sex FROM df LIMIT 5;\"\n"
      ],
      "metadata": {
        "id": "VRM8CvR0zkC8"
      },
      "execution_count": 17,
      "outputs": []
    }
  ]
}