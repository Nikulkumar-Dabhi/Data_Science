{
  "cells": [
    {
      "cell_type": "markdown",
      "metadata": {
        "id": "view-in-github",
        "colab_type": "text"
      },
      "source": [
        "<a href=\"https://colab.research.google.com/github/Nikulkumar-Dabhi/Data_Science/blob/main/Numpy.ipynb\" target=\"_parent\"><img src=\"https://colab.research.google.com/assets/colab-badge.svg\" alt=\"Open In Colab\"/></a>"
      ]
    },
    {
      "cell_type": "markdown",
      "id": "466b0fb1",
      "metadata": {
        "id": "466b0fb1"
      },
      "source": [
        "# NumPy Basics for Data Science - From Scratch"
      ]
    },
    {
      "cell_type": "markdown",
      "id": "4923f087",
      "metadata": {
        "id": "4923f087"
      },
      "source": [
        "\n",
        "NumPy (Numerical Python) is one of the core libraries for data science and machine learning in Python.\n",
        "It provides high-performance data structures and tools for working with numerical data, especially arrays.\n"
      ]
    },
    {
      "cell_type": "markdown",
      "id": "37052eb5",
      "metadata": {
        "id": "37052eb5"
      },
      "source": [
        "## Importing NumPy"
      ]
    },
    {
      "cell_type": "code",
      "execution_count": null,
      "id": "7678fc6a",
      "metadata": {
        "id": "7678fc6a"
      },
      "outputs": [],
      "source": [
        "import numpy as np"
      ]
    },
    {
      "cell_type": "markdown",
      "id": "78119b8a",
      "metadata": {
        "id": "78119b8a"
      },
      "source": [
        "## 1. Creating Arrays"
      ]
    },
    {
      "cell_type": "markdown",
      "id": "dcb38b00",
      "metadata": {
        "id": "dcb38b00"
      },
      "source": [
        "\n",
        "Arrays are the foundation of NumPy. They're like lists in Python but more powerful for numerical data.\n"
      ]
    },
    {
      "cell_type": "code",
      "execution_count": null,
      "id": "82d2a643",
      "metadata": {
        "id": "82d2a643"
      },
      "outputs": [],
      "source": [
        "\n",
        "# 1D Array\n",
        "arr = np.array([1, 2, 3])\n",
        "print(\"1D Array:\", arr)\n",
        "\n",
        "# 2D Array\n",
        "arr2d = np.array([[1, 2], [3, 4]])\n",
        "print(\"2D Array:\n",
        "\", arr2d)\n",
        "\n",
        "# Common array creation functions\n",
        "print(\"Zeros:\n",
        "\", np.zeros((2, 3)))\n",
        "print(\"Ones:\n",
        "\", np.ones((3, 3)))\n",
        "print(\"Identity Matrix:\n",
        "\", np.eye(3))\n",
        "print(\"Full:\n",
        "\", np.full((2, 2), 7))\n",
        "print(\"Arange:\n",
        "\", np.arange(0, 10, 2))\n",
        "print(\"Linspace:\n",
        "\", np.linspace(0, 1, 5))\n"
      ]
    },
    {
      "cell_type": "markdown",
      "id": "106c63a0",
      "metadata": {
        "id": "106c63a0"
      },
      "source": [
        "## 2. Array Attributes"
      ]
    },
    {
      "cell_type": "markdown",
      "id": "f93ecac9",
      "metadata": {
        "id": "f93ecac9"
      },
      "source": [
        "\n",
        "These are useful for understanding the structure and contents of the array.\n"
      ]
    },
    {
      "cell_type": "code",
      "execution_count": null,
      "id": "347ce0a3",
      "metadata": {
        "id": "347ce0a3"
      },
      "outputs": [],
      "source": [
        "\n",
        "print(\"Shape:\", arr.shape)\n",
        "print(\"Dimensions:\", arr.ndim)\n",
        "print(\"Size:\", arr.size)\n",
        "print(\"Data Type:\", arr.dtype)\n"
      ]
    },
    {
      "cell_type": "markdown",
      "id": "3d1446b7",
      "metadata": {
        "id": "3d1446b7"
      },
      "source": [
        "## 3. Indexing and Slicing"
      ]
    },
    {
      "cell_type": "markdown",
      "id": "ec48eb81",
      "metadata": {
        "id": "ec48eb81"
      },
      "source": [
        "\n",
        "Just like lists, NumPy arrays can be indexed and sliced. For 2D arrays, you can index rows and columns.\n"
      ]
    },
    {
      "cell_type": "code",
      "execution_count": null,
      "id": "97378cca",
      "metadata": {
        "id": "97378cca"
      },
      "outputs": [],
      "source": [
        "\n",
        "arr = np.array([10, 20, 30, 40, 50])\n",
        "print(\"First element:\", arr[0])\n",
        "print(\"Slice [1:4]:\", arr[1:4])\n",
        "\n",
        "arr2d = np.array([[1, 2, 3], [4, 5, 6]])\n",
        "print(\"Element at (0,1):\", arr2d[0, 1])\n",
        "print(\"Second column:\", arr2d[:, 1])\n"
      ]
    },
    {
      "cell_type": "markdown",
      "id": "8dcd0a87",
      "metadata": {
        "id": "8dcd0a87"
      },
      "source": [
        "## 4. Array Operations"
      ]
    },
    {
      "cell_type": "markdown",
      "id": "de7e799d",
      "metadata": {
        "id": "de7e799d"
      },
      "source": [
        "\n",
        "NumPy allows element-wise operations like addition, multiplication, etc. which are essential for numerical computing in data science.\n"
      ]
    },
    {
      "cell_type": "code",
      "execution_count": null,
      "id": "df5a2579",
      "metadata": {
        "id": "df5a2579"
      },
      "outputs": [],
      "source": [
        "\n",
        "a = np.array([1, 2, 3])\n",
        "b = np.array([4, 5, 6])\n",
        "\n",
        "print(\"Addition:\", a + b)\n",
        "print(\"Multiplication:\", a * b)\n",
        "print(\"Square:\", a ** 2)\n",
        "\n",
        "# Matrix multiplication\n",
        "print(\"Dot product:\", np.dot(a, b))\n"
      ]
    },
    {
      "cell_type": "markdown",
      "id": "9a52df28",
      "metadata": {
        "id": "9a52df28"
      },
      "source": [
        "## 5. Aggregation Functions"
      ]
    },
    {
      "cell_type": "markdown",
      "id": "18030bf0",
      "metadata": {
        "id": "18030bf0"
      },
      "source": [
        "\n",
        "Aggregation functions summarize data and are widely used in data analysis tasks.\n"
      ]
    },
    {
      "cell_type": "code",
      "execution_count": null,
      "id": "68896460",
      "metadata": {
        "id": "68896460"
      },
      "outputs": [],
      "source": [
        "\n",
        "print(\"Sum:\", a.sum())\n",
        "print(\"Mean:\", a.mean())\n",
        "print(\"Max:\", a.max())\n",
        "print(\"Min:\", a.min())\n",
        "print(\"Standard Deviation:\", a.std())\n"
      ]
    },
    {
      "cell_type": "markdown",
      "id": "ecee534b",
      "metadata": {
        "id": "ecee534b"
      },
      "source": [
        "## 6. Reshaping and Transposing"
      ]
    },
    {
      "cell_type": "markdown",
      "id": "94bb6c9b",
      "metadata": {
        "id": "94bb6c9b"
      },
      "source": [
        "\n",
        "These operations are important when preparing data for machine learning models.\n"
      ]
    },
    {
      "cell_type": "code",
      "execution_count": null,
      "id": "b4b2f9fd",
      "metadata": {
        "id": "b4b2f9fd"
      },
      "outputs": [],
      "source": [
        "\n",
        "a = np.array([[1, 2], [3, 4], [5, 6]])\n",
        "print(\"Original:\n",
        "\", a)\n",
        "print(\"Reshaped (2x3):\n",
        "\", a.reshape(2, 3))\n",
        "print(\"Transposed:\n",
        "\", a.T)\n"
      ]
    },
    {
      "cell_type": "markdown",
      "id": "40aecc81",
      "metadata": {
        "id": "40aecc81"
      },
      "source": [
        "## 7. Boolean Indexing"
      ]
    },
    {
      "cell_type": "markdown",
      "id": "0f000b4b",
      "metadata": {
        "id": "0f000b4b"
      },
      "source": [
        "\n",
        "Use conditions to filter elements in arrays. Very useful in data preprocessing.\n"
      ]
    },
    {
      "cell_type": "code",
      "execution_count": null,
      "id": "68351613",
      "metadata": {
        "id": "68351613"
      },
      "outputs": [],
      "source": [
        "\n",
        "arr = np.array([10, 20, 30, 40])\n",
        "mask = arr > 20\n",
        "print(\"Mask:\", mask)\n",
        "print(\"Filtered:\", arr[mask])\n"
      ]
    },
    {
      "cell_type": "markdown",
      "id": "1301d9c0",
      "metadata": {
        "id": "1301d9c0"
      },
      "source": [
        "## 8. Random Numbers"
      ]
    },
    {
      "cell_type": "markdown",
      "id": "785f532c",
      "metadata": {
        "id": "785f532c"
      },
      "source": [
        "\n",
        "Useful for simulations, generating test data, or initializing machine learning weights.\n"
      ]
    },
    {
      "cell_type": "code",
      "execution_count": null,
      "id": "da700fd3",
      "metadata": {
        "id": "da700fd3"
      },
      "outputs": [],
      "source": [
        "\n",
        "print(\"Random floats:\", np.random.rand(3))\n",
        "print(\"Random integer (1 to 10):\", np.random.randint(1, 10))\n",
        "print(\"Random normal distribution:\n",
        "\", np.random.randn(3, 2))\n"
      ]
    },
    {
      "cell_type": "markdown",
      "id": "3b067c9f",
      "metadata": {
        "id": "3b067c9f"
      },
      "source": [
        "## 9. Copy vs View"
      ]
    },
    {
      "cell_type": "markdown",
      "id": "ce52c099",
      "metadata": {
        "id": "ce52c099"
      },
      "source": [
        "\n",
        "Understanding memory sharing is important to avoid unintended changes in data.\n"
      ]
    },
    {
      "cell_type": "code",
      "execution_count": null,
      "id": "a4e04d39",
      "metadata": {
        "id": "a4e04d39"
      },
      "outputs": [],
      "source": [
        "\n",
        "a = np.array([1, 2, 3])\n",
        "b = a.view()\n",
        "c = a.copy()\n",
        "\n",
        "a[0] = 100\n",
        "print(\"Original:\", a)\n",
        "print(\"View (shares memory):\", b)\n",
        "print(\"Copy (independent):\", c)\n"
      ]
    }
  ],
  "metadata": {
    "colab": {
      "provenance": [],
      "include_colab_link": true
    }
  },
  "nbformat": 4,
  "nbformat_minor": 5
}