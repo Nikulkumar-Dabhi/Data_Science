{
  "nbformat": 4,
  "nbformat_minor": 0,
  "metadata": {
    "colab": {
      "provenance": [],
      "authorship_tag": "ABX9TyPPXx2jsHK5x6gseJ6iMXKd",
      "include_colab_link": true
    },
    "kernelspec": {
      "name": "python3",
      "display_name": "Python 3"
    },
    "language_info": {
      "name": "python"
    }
  },
  "cells": [
    {
      "cell_type": "markdown",
      "metadata": {
        "id": "view-in-github",
        "colab_type": "text"
      },
      "source": [
        "<a href=\"https://colab.research.google.com/github/Nikulkumar-Dabhi/Data_Science/blob/main/Statistics.ipynb\" target=\"_parent\"><img src=\"https://colab.research.google.com/assets/colab-badge.svg\" alt=\"Open In Colab\"/></a>"
      ]
    },
    {
      "cell_type": "code",
      "source": [
        "1. Mean"
      ],
      "metadata": {
        "id": "gCyuKtqHohEV"
      },
      "execution_count": null,
      "outputs": []
    },
    {
      "source": [
        "import numpy\n",
        "\n",
        "# Sample data representing the daily temperatures of a city for a week\n",
        "temperatures = [25, 28, 26, 29, 30, 27, 24]\n",
        "\n",
        "# Calculate the mean temperature\n",
        "mean_temperature = numpy.mean(temperatures)\n",
        "\n",
        "print(f\"The mean temperature for the week is: {mean_temperature}\")\n",
        "\n",
        "# Real-life use: Calculating the average daily temperature to understand the overall weather pattern."
      ],
      "cell_type": "code",
      "metadata": {
        "colab": {
          "base_uri": "https://localhost:8080/"
        },
        "id": "lZiwt8jgojv7",
        "outputId": "ceaaf93f-0d0d-439d-a7df-51fc9759b0fb"
      },
      "execution_count": 3,
      "outputs": [
        {
          "output_type": "stream",
          "name": "stdout",
          "text": [
            "The mean temperature for the week is: 27.0\n"
          ]
        }
      ]
    },
    {
      "cell_type": "markdown",
      "source": [
        "2. Median"
      ],
      "metadata": {
        "id": "aIJ9IR2xotZw"
      }
    },
    {
      "source": [
        "import numpy as np\n",
        "\n",
        "# Sample data representing the salaries of employees in a company\n",
        "salaries = [30000, 35000, 40000, 45000, 50000, 100000]\n",
        "\n",
        "# Calculate the median salary\n",
        "median_salary = np.median(salaries)\n",
        "\n",
        "print(f\"The median salary is: {median_salary}\")\n",
        "\n",
        "# Real-life use: Finding the middle value of salaries to understand the typical salary range."
      ],
      "cell_type": "code",
      "metadata": {
        "colab": {
          "base_uri": "https://localhost:8080/"
        },
        "id": "ZzpvL7XdosC0",
        "outputId": "5e73caa6-1568-439d-b405-f8628d0961b9"
      },
      "execution_count": 4,
      "outputs": [
        {
          "output_type": "stream",
          "name": "stdout",
          "text": [
            "The median salary is: 42500.0\n"
          ]
        }
      ]
    },
    {
      "cell_type": "code",
      "source": [
        "3. Mode"
      ],
      "metadata": {
        "id": "vBZi5tIOo59M"
      },
      "execution_count": null,
      "outputs": []
    },
    {
      "source": [
        "from scipy import stats\n",
        "\n",
        "# Sample data representing the sizes of shoes sold in a store\n",
        "shoe_sizes = [8, 9, 10, 10, 11, 12, 10, 9, 10]\n",
        "\n",
        "# Calculate the mode of shoe sizes\n",
        "mode_size = stats.mode(shoe_sizes)\n",
        "\n",
        "# Access the mode value directly without indexing\n",
        "print(f\"The mode shoe size is: {mode_size.mode}\")  # Remove [0]\n",
        "\n",
        "# Real-life use: Identifying the most frequent shoe size to optimize inventory management."
      ],
      "cell_type": "code",
      "metadata": {
        "colab": {
          "base_uri": "https://localhost:8080/"
        },
        "id": "RmmQxnxopZe0",
        "outputId": "5d723ae9-41e1-477e-fb88-7a5f22b97654"
      },
      "execution_count": 6,
      "outputs": [
        {
          "output_type": "stream",
          "name": "stdout",
          "text": [
            "The mode shoe size is: 10\n"
          ]
        }
      ]
    },
    {
      "cell_type": "markdown",
      "source": [
        "4. Standard Deviation"
      ],
      "metadata": {
        "id": "qhTg-qhPpo8Y"
      }
    },
    {
      "source": [
        "import numpy as np\n",
        "\n",
        "# Sample data representing the scores of students in an exam\n",
        "scores = [75, 80, 85, 90, 95]\n",
        "\n",
        "# Calculate the standard deviation of scores\n",
        "std_deviation = np.std(scores)\n",
        "\n",
        "print(f\"The standard deviation of scores is: {std_deviation}\")\n",
        "\n",
        "# Real-life use: Measuring the spread or variability of exam scores to assess student performance."
      ],
      "cell_type": "code",
      "metadata": {
        "colab": {
          "base_uri": "https://localhost:8080/"
        },
        "id": "u82Aj_QSpmeo",
        "outputId": "a128e14a-d515-48c1-c2ac-16537ed8ddb3"
      },
      "execution_count": 7,
      "outputs": [
        {
          "output_type": "stream",
          "name": "stdout",
          "text": [
            "The standard deviation of scores is: 7.0710678118654755\n"
          ]
        }
      ]
    },
    {
      "cell_type": "markdown",
      "source": [
        "5. Variance"
      ],
      "metadata": {
        "id": "MVH4aAI9pw8w"
      }
    },
    {
      "source": [
        "import numpy as np\n",
        "\n",
        "# Sample data representing the stock prices of a company over a month\n",
        "stock_prices = [150, 155, 160, 158, 162, 165]\n",
        "\n",
        "# Calculate the variance of stock prices\n",
        "variance = np.var(stock_prices)\n",
        "\n",
        "print(f\"The variance of stock prices is: {variance}\")\n",
        "\n",
        "# Real-life use: Analyzing the volatility or risk associated with investing in the company's stock."
      ],
      "cell_type": "code",
      "metadata": {
        "colab": {
          "base_uri": "https://localhost:8080/"
        },
        "id": "o5CO4EQMpyto",
        "outputId": "6454f17d-7ce0-46a5-fbc2-38d4865ea77c"
      },
      "execution_count": 10,
      "outputs": [
        {
          "output_type": "stream",
          "name": "stdout",
          "text": [
            "The variance of stock prices is: 23.555555555555554\n"
          ]
        }
      ]
    },
    {
      "cell_type": "markdown",
      "source": [
        "6. Correlation"
      ],
      "metadata": {
        "id": "zhGMKUegp70M"
      }
    },
    {
      "source": [
        "import numpy as np\n",
        "\n",
        "# Sample data representing the height and weight of individuals\n",
        "height = [160, 165, 170, 175, 180]\n",
        "weight = [60, 65, 70, 75, 80]\n",
        "\n",
        "# Calculate the correlation between height and weight\n",
        "correlation = np.corrcoef(height, weight)[0, 1]\n",
        "\n",
        "print(f\"The correlation between height and weight is: {correlation}\")\n",
        "\n",
        "# Real-life use: Examining the relationship between height and weight to understand if they are associated."
      ],
      "cell_type": "code",
      "metadata": {
        "colab": {
          "base_uri": "https://localhost:8080/"
        },
        "id": "7YOdNJkgp_eS",
        "outputId": "63689911-d84e-48bc-c760-63e19ae4d670"
      },
      "execution_count": 13,
      "outputs": [
        {
          "output_type": "stream",
          "name": "stdout",
          "text": [
            "The correlation between height and weight is: 1.0\n"
          ]
        }
      ]
    },
    {
      "cell_type": "markdown",
      "source": [
        "7. Regression"
      ],
      "metadata": {
        "id": "c__AB-A-qN7c"
      }
    },
    {
      "source": [
        "from sklearn.linear_model import LinearRegression\n",
        "\n",
        "# Sample data representing the advertising budget and sales of a company\n",
        "budget = [[1000], [2000], [3000], [4000], [5000]]\n",
        "sales = [15000, 20000, 25000, 30000, 35000]\n",
        "\n",
        "# Create and fit a linear regression model\n",
        "model = LinearRegression()\n",
        "model.fit(budget, sales)\n",
        "\n",
        "# Predict sales for a new budget\n",
        "new_budget = [[6000]]\n",
        "predicted_sales = model.predict(new_budget)\n",
        "\n",
        "print(f\"Predicted sales for a budget of 6000 is: {predicted_sales[0]}\")\n",
        "\n",
        "# Real-life use: Predicting future sales based on advertising budget using a regression model."
      ],
      "cell_type": "code",
      "metadata": {
        "colab": {
          "base_uri": "https://localhost:8080/"
        },
        "id": "N0qfX137qMue",
        "outputId": "f798b294-8418-440a-da18-0a29ede3d28e"
      },
      "execution_count": 14,
      "outputs": [
        {
          "output_type": "stream",
          "name": "stdout",
          "text": [
            "Predicted sales for a budget of 6000 is: 40000.0\n"
          ]
        }
      ]
    },
    {
      "cell_type": "markdown",
      "source": [
        "8. Percentile"
      ],
      "metadata": {
        "id": "MIDoec0kqh5W"
      }
    },
    {
      "source": [
        "import numpy as np\n",
        "\n",
        "# Sample data representing the scores of students in an exam\n",
        "scores = [75, 80, 85, 90, 95]\n",
        "\n",
        "# Calculate the 75th percentile of scores\n",
        "percentile_75 = np.percentile(scores, 75)\n",
        "\n",
        "print(f\"The 75th percentile of scores is: {percentile_75}\")\n",
        "\n",
        "# Real-life use: Determining the score below which 75% of the students fall in an exam."
      ],
      "cell_type": "code",
      "metadata": {
        "colab": {
          "base_uri": "https://localhost:8080/"
        },
        "id": "2S8BbOH5qdQq",
        "outputId": "01b99f53-5da3-41dc-9fdf-51b8c968f7fe"
      },
      "execution_count": 15,
      "outputs": [
        {
          "output_type": "stream",
          "name": "stdout",
          "text": [
            "The 75th percentile of scores is: 90.0\n"
          ]
        }
      ]
    },
    {
      "cell_type": "markdown",
      "source": [
        "9. Interquartile Range (IQR)"
      ],
      "metadata": {
        "id": "1tPEnJRmqoKE"
      }
    },
    {
      "source": [
        "import numpy as np\n",
        "\n",
        "# Sample data representing the ages of people in a group\n",
        "ages = [25, 30, 35, 40, 45, 50, 55, 60, 65, 70]\n",
        "\n",
        "# Calculate the interquartile range (IQR) of ages\n",
        "q1 = np.percentile(ages, 25)\n",
        "q3 = np.percentile(ages, 75)\n",
        "iqr = q3 - q1\n",
        "\n",
        "print(f\"The interquartile range (IQR) of ages is: {iqr}\")\n",
        "\n",
        "# Real-life use: Identifying the spread of the middle 50% of the data, often used in box plots."
      ],
      "cell_type": "code",
      "metadata": {
        "colab": {
          "base_uri": "https://localhost:8080/"
        },
        "id": "3zFCxzbTqp_7",
        "outputId": "c1ae7ab7-5791-4cc3-aa1b-f2ec687f6147"
      },
      "execution_count": 16,
      "outputs": [
        {
          "output_type": "stream",
          "name": "stdout",
          "text": [
            "The interquartile range (IQR) of ages is: 22.5\n"
          ]
        }
      ]
    },
    {
      "cell_type": "markdown",
      "source": [
        "10. Hypothesis Testing"
      ],
      "metadata": {
        "id": "Wgavj1eOq-5D"
      }
    },
    {
      "source": [
        "from scipy import stats\n",
        "\n",
        "# Sample data representing the heights of two groups of people\n",
        "group1_heights = [160, 165, 170, 175, 180]\n",
        "group2_heights = [155, 160, 165, 170, 175]\n",
        "\n",
        "# Perform a t-test to compare the means of the two groups\n",
        "t_statistic, p_value = stats.ttest_ind(group1_heights, group2_heights)\n",
        "\n",
        "print(f\"T-statistic: {t_statistic}\")\n",
        "print(f\"P-value: {p_value}\")\n",
        "\n",
        "# Real-life use: Testing if there is a significant difference in the average heights of two groups."
      ],
      "cell_type": "code",
      "metadata": {
        "colab": {
          "base_uri": "https://localhost:8080/"
        },
        "id": "dZDkH2zJq7dN",
        "outputId": "b25fd81a-2109-44b0-8982-ba33a901fcf3"
      },
      "execution_count": 17,
      "outputs": [
        {
          "output_type": "stream",
          "name": "stdout",
          "text": [
            "T-statistic: 1.0\n",
            "P-value: 0.34659350708733416\n"
          ]
        }
      ]
    },
    {
      "cell_type": "markdown",
      "source": [
        "11. Confidence Interval"
      ],
      "metadata": {
        "id": "xyA4_38QrPSp"
      }
    },
    {
      "source": [
        "import statsmodels.api as sm\n",
        "import numpy as np\n",
        "\n",
        "# Sample data representing the weights of a group of people\n",
        "weights = [60, 65, 70, 75, 80, 85, 90, 95, 100]\n",
        "\n",
        "# Calculate the 95% confidence interval for the mean weight\n",
        "confidence_interval = sm.stats.DescrStatsW(weights).tconfint_mean()\n",
        "\n",
        "print(f\"95% Confidence Interval: {confidence_interval}\")\n",
        "\n",
        "# Real-life use: Estimating the range within which the true population mean weight is likely to fall."
      ],
      "cell_type": "code",
      "metadata": {
        "colab": {
          "base_uri": "https://localhost:8080/"
        },
        "id": "-Br8GbUKrQfJ",
        "outputId": "49cc645c-950b-4b2c-e768-781fe0231db0"
      },
      "execution_count": 19,
      "outputs": [
        {
          "output_type": "stream",
          "name": "stdout",
          "text": [
            "95% Confidence Interval: (np.float64(69.47457931207072), np.float64(90.52542068792928))\n"
          ]
        }
      ]
    },
    {
      "cell_type": "markdown",
      "source": [
        "12. Probability Distribution"
      ],
      "metadata": {
        "id": "v9PPkZVcrVMT"
      }
    },
    {
      "source": [
        "import numpy as np\n",
        "import matplotlib.pyplot as plt\n",
        "import scipy.stats as stats\n",
        "\n",
        "# Generate random numbers from a normal distribution\n",
        "data = np.random.normal(loc=50, scale=10, size=1000)\n",
        "\n",
        "# Plot the distribution\n",
        "plt.hist(data, bins=30, density=True, alpha=0.6, color='b')\n",
        "plt.xlabel('Values')\n",
        "plt.ylabel('Probability Density')\n",
        "plt.title('Normal Distribution')\n",
        "\n",
        "# Calculate and display some statistics\n",
        "mean = np.mean(data)\n",
        "std = np.std(data)\n",
        "print(f'Mean: {mean:.2f}')\n",
        "print(f'Standard Deviation: {std:.2f}')\n",
        "\n",
        "# Real-life use: Modeling various phenomena like exam scores, heights, and errors in measurements."
      ],
      "cell_type": "code",
      "metadata": {
        "colab": {
          "base_uri": "https://localhost:8080/",
          "height": 508
        },
        "id": "hL5e02FRrY7m",
        "outputId": "52646d34-d73b-4a73-ed66-fb218b531b56"
      },
      "execution_count": 20,
      "outputs": [
        {
          "output_type": "stream",
          "name": "stdout",
          "text": [
            "Mean: 50.06\n",
            "Standard Deviation: 10.29\n"
          ]
        },
        {
          "output_type": "display_data",
          "data": {
            "text/plain": [
              "<Figure size 640x480 with 1 Axes>"
            ],
            "image/png": "[encoded data removed]"
          },
          "metadata": {}
        }
      ]
    },
    {
      "cell_type": "markdown",
      "source": [
        "13. Sampling"
      ],
      "metadata": {
        "id": "nm04fzQirhD4"
      }
    },
    {
      "source": [
        "import random\n",
        "\n",
        "# Population data (e.g., all students in a school)\n",
        "population = list(range(1, 1001))  # Representing 1000 students\n",
        "\n",
        "# Sample size\n",
        "sample_size = 100\n",
        "\n",
        "# Random sampling without replacement\n",
        "sample = random.sample(population, sample_size)\n",
        "\n",
        "print(f\"Random Sample: {sample}\")\n",
        "\n",
        "# Real-life use: Selecting a subset of individuals from a larger population for surveys or research studies."
      ],
      "cell_type": "code",
      "metadata": {
        "colab": {
          "base_uri": "https://localhost:8080/"
        },
        "id": "SGchvw4arjeZ",
        "outputId": "1fcb73ba-479e-43e8-f6a5-f0f1009b227a"
      },
      "execution_count": 21,
      "outputs": [
        {
          "output_type": "stream",
          "name": "stdout",
          "text": [
            "Random Sample: [655, 82, 802, 489, 351, 283, 518, 543, 374, 475, 377, 932, 262, 325, 694, 428, 167, 552, 927, 925, 293, 251, 564, 83, 317, 856, 294, 400, 502, 27, 73, 609, 881, 260, 368, 683, 141, 152, 556, 899, 507, 748, 427, 32, 765, 118, 250, 33, 163, 211, 667, 714, 300, 243, 158, 213, 672, 940, 686, 136, 608, 908, 660, 643, 138, 737, 2, 654, 503, 689, 25, 713, 677, 241, 756, 219, 862, 746, 433, 787, 128, 917, 404, 632, 175, 542, 733, 482, 725, 100, 784, 753, 286, 352, 962, 720, 757, 97, 418, 904]\n"
          ]
        }
      ]
    },
    {
      "cell_type": "markdown",
      "source": [
        "14. Central limit theory"
      ],
      "metadata": {
        "id": "fJZahIppr3vx"
      }
    },
    {
      "source": [
        "import numpy as np\n",
        "import matplotlib.pyplot as plt\n",
        "\n",
        "# Population distribution (e.g., uniform distribution)\n",
        "population = np.random.uniform(0, 1, 10000)\n",
        "\n",
        "# Sample size and number of samples\n",
        "sample_size = 30\n",
        "num_samples = 1000\n",
        "\n",
        "# Calculate sample means\n",
        "sample_means = [np.mean(np.random.choice(population, size=sample_size)) for _ in range(num_samples)]\n",
        "\n",
        "# Plot the distribution of sample means\n",
        "plt.hist(sample_means, bins=30, density=True, alpha=0.6, color='b')\n",
        "plt.xlabel('Sample Means')\n",
        "plt.ylabel('Frequency')\n",
        "plt.title('Central Limit Theorem Demonstration')\n",
        "\n",
        "# Real-life use: Understanding the distribution of sample means, which tends to be normal regardless of the population distribution."
      ],
      "cell_type": "code",
      "metadata": {
        "colab": {
          "base_uri": "https://localhost:8080/",
          "height": 490
        },
        "id": "fGC_91p0rpOZ",
        "outputId": "44548e10-cba9-4b2b-82a7-fcb375dbdaec"
      },
      "execution_count": 26,
      "outputs": [
        {
          "output_type": "execute_result",
          "data": {
            "text/plain": [
              "Text(0.5, 1.0, 'Central Limit Theorem Demonstration')"
            ]
          },
          "metadata": {},
          "execution_count": 26
        },
        {
          "output_type": "display_data",
          "data": {
            "text/plain": [
              "<Figure size 640x480 with 1 Axes>"
            ],
            "image/png": "[encoded data removed]"
          },
          "metadata": {}
        }
      ]
    },
    {
      "cell_type": "markdown",
      "source": [
        "15. ANOVA (Analysis of Variance)"
      ],
      "metadata": {
        "id": "yCy7Tv8LsHDj"
      }
    },
    {
      "source": [
        "from scipy import stats\n",
        "\n",
        "# Sample data representing the performance of three different groups\n",
        "group1 = [5, 7, 9, 6, 8]\n",
        "group2 = [10, 12, 11, 9, 13]\n",
        "group3 = [15, 17, 16, 14, 18]\n",
        "\n",
        "# Perform ANOVA\n",
        "f_statistic, p_value = stats.f_oneway(group1, group2, group3)\n",
        "\n",
        "print(f\"F-statistic: {f_statistic}\")\n",
        "print(f\"P-value: {p_value}\")\n",
        "\n",
        "# Real-life use: Comparing the means of three or more groups to determine if there is a significant difference."
      ],
      "cell_type": "code",
      "metadata": {
        "colab": {
          "base_uri": "https://localhost:8080/"
        },
        "id": "zlol6MbPsGsb",
        "outputId": "85712fb0-36dc-4976-bca8-d684d678bc66"
      },
      "execution_count": 27,
      "outputs": [
        {
          "output_type": "stream",
          "name": "stdout",
          "text": [
            "F-statistic: 40.666666666666664\n",
            "P-value: 4.517173966629554e-06\n"
          ]
        }
      ]
    },
    {
      "cell_type": "markdown",
      "source": [
        "16. Chi-Square Test"
      ],
      "metadata": {
        "id": "BqsjXAvGsOEO"
      }
    },
    {
      "source": [
        "from scipy import stats\n",
        "\n",
        "# Observed frequencies (e.g., counts of different categories)\n",
        "observed = [30, 20, 10]\n",
        "\n",
        "# Expected frequencies (e.g., under the assumption of independence)\n",
        "# Ensure the expected frequencies sum to the same total as observed frequencies\n",
        "total_observed = sum(observed)  # Calculate the total observed frequency\n",
        "expected_proportions = [0.5, 0.3333, 0.1667]  # Example proportions, adjust as needed\n",
        "expected = [prop * total_observed for prop in expected_proportions]  # Calculate expected frequencies\n",
        "\n",
        "# Perform Chi-square test\n",
        "chi2_statistic, p_value = stats.chisquare(observed, f_exp=expected)\n",
        "\n",
        "print(f\"Chi-square statistic: {chi2_statistic}\")\n",
        "print(f\"P-value: {p_value}\")\n",
        "\n",
        "# Real-life use: Testing the independence of two categorical variables."
      ],
      "cell_type": "code",
      "metadata": {
        "colab": {
          "base_uri": "https://localhost:8080/"
        },
        "id": "rSMPHjYAsjs5",
        "outputId": "366f6fc1-d777-4122-a54e-ffb154eb365f"
      },
      "execution_count": 32,
      "outputs": [
        {
          "output_type": "stream",
          "name": "stdout",
          "text": [
            "Chi-square statistic: 5.999400179970464e-07\n",
            "P-value: 0.999999700030036\n"
          ]
        }
      ]
    }
  ]
}