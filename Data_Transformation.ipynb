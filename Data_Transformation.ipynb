{
  "nbformat": 4,
  "nbformat_minor": 0,
  "metadata": {
    "colab": {
      "provenance": [],
      "authorship_tag": "ABX9TyOr3Xm78W8tT7b3iFb+NGr+",
      "include_colab_link": true
    },
    "kernelspec": {
      "name": "python3",
      "display_name": "Python 3"
    },
    "language_info": {
      "name": "python"
    }
  },
  "cells": [
    {
      "cell_type": "markdown",
      "metadata": {
        "id": "view-in-github",
        "colab_type": "text"
      },
      "source": [
        "<a href=\"https://colab.research.google.com/github/Nikulkumar-Dabhi/Data_Science/blob/main/Data_Transformation.ipynb\" target=\"_parent\"><img src=\"https://colab.research.google.com/assets/colab-badge.svg\" alt=\"Open In Colab\"/></a>"
      ]
    },
    {
      "cell_type": "markdown",
      "source": [
        "Data transformation is the process of converting data from one format or structure into another. This is often necessary to prepare data for analysis or to make it compatible with different systems. Python offers several built-in functions to help with these tasks."
      ],
      "metadata": {
        "id": "7ox1fdrveBK7"
      }
    },
    {
      "cell_type": "markdown",
      "source": [
        "1. map()\n",
        "The map() function applies a given function to each item of an iterable (e.g., a list, tuple) and returns an iterator with the results.\n",
        "It's useful for transforming each element of a dataset individually."
      ],
      "metadata": {
        "id": "sMy1HvuWeNK-"
      }
    },
    {
      "source": [
        "numbers = [1, 2, 3, 4, 5]\n",
        "squares = list(map(lambda x: x**2, numbers))\n",
        "print(squares)"
      ],
      "cell_type": "code",
      "metadata": {
        "colab": {
          "base_uri": "https://localhost:8080/"
        },
        "id": "ZsjjPNn_eW5a",
        "outputId": "154645af-ed7c-4e04-e419-4fc299d6810c"
      },
      "execution_count": null,
      "outputs": [
        {
          "output_type": "stream",
          "name": "stdout",
          "text": [
            "[1, 4, 9, 16, 25]\n"
          ]
        }
      ]
    },
    {
      "cell_type": "markdown",
      "source": [
        "2. filter()\n",
        "The filter() function constructs an iterator from elements of an iterable for which a function returns"
      ],
      "metadata": {
        "id": "Knkp7Eb2ed0Z"
      }
    },
    {
      "source": [
        "numbers = [1, 2, 3, 4, 5, 6, 7, 8, 9, 10]\n",
        "\n",
        "# Function to check if a number is even\n",
        "def is_even(number):\n",
        "  return number % 2 == 0\n",
        "\n",
        "# Use filter to get even numbers\n",
        "even_numbers = list(filter(is_even, numbers))\n",
        "\n",
        "print(even_numbers)\n"
      ],
      "cell_type": "code",
      "metadata": {
        "colab": {
          "base_uri": "https://localhost:8080/"
        },
        "id": "tE1Ch9qte4vw",
        "outputId": "7b625051-c6a8-44bc-dd35-b4f68f9a2b03"
      },
      "execution_count": null,
      "outputs": [
        {
          "output_type": "stream",
          "name": "stdout",
          "text": [
            "[2, 4, 6, 8, 10]\n"
          ]
        }
      ]
    },
    {
      "cell_type": "markdown",
      "source": [
        "sorted()\n",
        "\n",
        "The sorted() function returns a new sorted list from the items in an iterable."
      ],
      "metadata": {
        "id": "gIW9XOwAfOv1"
      }
    },
    {
      "cell_type": "markdown",
      "source": [
        "Use key=str.lower or a custom function to sort case-insensitively."
      ],
      "metadata": {
        "id": "fOB1Y_EbgPoZ"
      }
    },
    {
      "source": [
        "data = [5, 2, 8, 1, 9]\n",
        "sorted_data = sorted(data,reverse=False)\n",
        "print(sorted_data)\n",
        "\n",
        "data = ['apple', 'banana', 'Orange']\n",
        "sorted_data_case_insensitive = sorted(data, key=str.lower)\n",
        "print(sorted_data_case_insensitive)"
      ],
      "cell_type": "code",
      "metadata": {
        "colab": {
          "base_uri": "https://localhost:8080/"
        },
        "id": "CqpLQVQbfQPn",
        "outputId": "c91e9588-a172-46bb-a4ac-5ad416ec85ba"
      },
      "execution_count": null,
      "outputs": [
        {
          "output_type": "stream",
          "name": "stdout",
          "text": [
            "[1, 2, 5, 8, 9]\n",
            "['apple', 'banana', 'Orange']\n"
          ]
        }
      ]
    },
    {
      "cell_type": "code",
      "source": [
        "data = ['Zebra', 'apple', 'Banana', '42', '!', 'cat', 'Dog', '#']\n",
        "\n",
        "sorted_data = sorted(data)\n",
        "print(sorted_data)\n",
        "\n",
        "#Sequence\n",
        "# 1. Symbol\n",
        "# 2. numbers\n",
        "# 3. Uppercase\n",
        "# 4. Lowercase\n"
      ],
      "metadata": {
        "colab": {
          "base_uri": "https://localhost:8080/"
        },
        "id": "_1igK1NrgX3J",
        "outputId": "ce14f132-7371-4125-b28e-138511790600"
      },
      "execution_count": null,
      "outputs": [
        {
          "output_type": "stream",
          "name": "stdout",
          "text": [
            "['!', '#', '42', 'Banana', 'Dog', 'Zebra', 'apple', 'cat']\n"
          ]
        }
      ]
    },
    {
      "cell_type": "markdown",
      "source": [],
      "metadata": {
        "id": "F1jRZp2bgXq8"
      }
    },
    {
      "cell_type": "markdown",
      "source": [
        "data = ['Zebra', 'apple', 'Banana', '42', '!', 'cat', 'Dog', '#']\n",
        "\n",
        "sorted_data = sorted(data)\n",
        "print(sorted_data)\n"
      ],
      "metadata": {
        "id": "QXif5-B2gWZa"
      }
    },
    {
      "cell_type": "markdown",
      "source": [
        "reduce()"
      ],
      "metadata": {
        "id": "hx0CFKFehHJR"
      }
    },
    {
      "cell_type": "markdown",
      "source": [
        "Zip"
      ],
      "metadata": {
        "id": "sLORbXIrhIKq"
      }
    },
    {
      "cell_type": "markdown",
      "source": [
        "Matrix Transformations"
      ],
      "metadata": {
        "id": "B-YvS4GkhUeY"
      }
    },
    {
      "cell_type": "code",
      "source": [],
      "metadata": {
        "id": "-Z19nry6fUDt"
      },
      "execution_count": null,
      "outputs": []
    },
    {
      "cell_type": "markdown",
      "source": [
        "In data science and machine learning, matrices are often used to represent datasets, where rows represent data points and columns represent features or variables. Matrix transformations involve applying mathematical operations to a matrix to change its values or structure. These transformations are fundamental to various data analysis and modeling tasks."
      ],
      "metadata": {
        "id": "_3ZcXYiVhX_r"
      }
    },
    {
      "cell_type": "markdown",
      "source": [
        "Reshaping"
      ],
      "metadata": {
        "id": "WIo5YtWRhZtn"
      }
    },
    {
      "cell_type": "code",
      "source": [],
      "metadata": {
        "id": "G_EaWjP2hYX2"
      },
      "execution_count": null,
      "outputs": []
    },
    {
      "source": [
        "import numpy as np\n",
        "matrix = np.array([[1, 2, 3], [4, 5, 6]])\n",
        "reshaped_matrix = matrix.reshape((3, 2))  # Reshape to 3 rows, 2 columns\n",
        "reshaped_matrix,matrix\n"
      ],
      "cell_type": "code",
      "metadata": {
        "colab": {
          "base_uri": "https://localhost:8080/"
        },
        "id": "o_Orv9kHhdVz",
        "outputId": "705195de-3d57-43ff-c02c-4c81dffc7aa9"
      },
      "execution_count": null,
      "outputs": [
        {
          "output_type": "execute_result",
          "data": {
            "text/plain": [
              "(array([[1, 2],\n",
              "        [3, 4],\n",
              "        [5, 6]]),\n",
              " array([[1, 2, 3],\n",
              "        [4, 5, 6]]))"
            ]
          },
          "metadata": {},
          "execution_count": 31
        }
      ]
    },
    {
      "cell_type": "markdown",
      "source": [
        "Transposing"
      ],
      "metadata": {
        "id": "dOKayRZ2h8tH"
      }
    },
    {
      "cell_type": "markdown",
      "source": [
        "Transposing flips a matrix over its diagonal, swapping rows and columns.\n",
        "You can use the .T attribute or np.transpose() in NumPy.\n",
        "\n"
      ],
      "metadata": {
        "id": "ROvcCjCKh_or"
      }
    },
    {
      "cell_type": "code",
      "source": [],
      "metadata": {
        "id": "kSRbesB1hdtl"
      },
      "execution_count": null,
      "outputs": []
    },
    {
      "source": [
        "import numpy as np\n",
        "matrix = np.array([[1, 2], [3, 4]])\n",
        "transposed_matrix = matrix.T\n",
        "transposed_matrix"
      ],
      "cell_type": "code",
      "metadata": {
        "colab": {
          "base_uri": "https://localhost:8080/"
        },
        "id": "84tFbt18iAa3",
        "outputId": "cf0e55a2-875d-4507-f422-d5d83ef77048"
      },
      "execution_count": null,
      "outputs": [
        {
          "output_type": "execute_result",
          "data": {
            "text/plain": [
              "array([[1, 3],\n",
              "       [2, 4]])"
            ]
          },
          "metadata": {},
          "execution_count": 35
        }
      ]
    },
    {
      "cell_type": "code",
      "source": [
        "matrix = np.array([[1, 2], [3, 4]])\n",
        "transposed_matrix = np.transpose(matrix)\n",
        "transposed_matrix"
      ],
      "metadata": {
        "colab": {
          "base_uri": "https://localhost:8080/"
        },
        "id": "3aq16H-QiA4z",
        "outputId": "4eaa24ab-ebe3-4b26-cff7-8f92905f58dc"
      },
      "execution_count": null,
      "outputs": [
        {
          "output_type": "execute_result",
          "data": {
            "text/plain": [
              "array([[1, 3],\n",
              "       [2, 4]])"
            ]
          },
          "metadata": {},
          "execution_count": 36
        }
      ]
    },
    {
      "cell_type": "code",
      "source": [],
      "metadata": {
        "id": "WliEZHv5iZW0"
      },
      "execution_count": null,
      "outputs": []
    },
    {
      "cell_type": "markdown",
      "source": [
        "### Scaling\n",
        "Scaling involves multiplying all elements of a matrix by a constant factor.\n",
        "You can simply use the multiplication operator (*) in NumPy."
      ],
      "metadata": {
        "id": "iMJxygvwiXGz"
      }
    },
    {
      "cell_type": "code",
      "source": [
        "j=9"
      ],
      "metadata": {
        "id": "7Bd49xC-jIa-"
      },
      "execution_count": null,
      "outputs": []
    },
    {
      "source": [
        "import numpy as np\n",
        "matrix = np.array([[1, 2], [3, 4]])\n",
        "scaled_matrix = matrix * 2  , matrix * 0.5,matrix * j\n",
        "scaled_matrix"
      ],
      "cell_type": "code",
      "metadata": {
        "colab": {
          "base_uri": "https://localhost:8080/"
        },
        "id": "YtjMmpYAig-S",
        "outputId": "bd869ecd-9474-431a-849b-6a4c925dad8e"
      },
      "execution_count": null,
      "outputs": [
        {
          "output_type": "execute_result",
          "data": {
            "text/plain": [
              "(array([[2, 4],\n",
              "        [6, 8]]),\n",
              " array([[0.5, 1. ],\n",
              "        [1.5, 2. ]]),\n",
              " array([[ 9, 18],\n",
              "        [27, 36]]))"
            ]
          },
          "metadata": {},
          "execution_count": 51
        }
      ]
    },
    {
      "cell_type": "markdown",
      "source": [
        "Element-wise Operations"
      ],
      "metadata": {
        "id": "Hubhu2VDjQFB"
      }
    },
    {
      "source": [
        "matrix1 = np.array([[1, 2], [3, 4]])\n",
        "matrix2 = np.array([[5, 6], [7, 8]])\n",
        "sum_matrix = matrix1 + matrix2\n",
        "sum_matrix"
      ],
      "cell_type": "code",
      "metadata": {
        "colab": {
          "base_uri": "https://localhost:8080/"
        },
        "id": "6Ei5w7R3jQ2l",
        "outputId": "4b4d6b6b-b0f1-41b3-c347-ffe52b867b75"
      },
      "execution_count": null,
      "outputs": [
        {
          "output_type": "execute_result",
          "data": {
            "text/plain": [
              "array([[ 6,  8],\n",
              "       [10, 12]])"
            ]
          },
          "metadata": {},
          "execution_count": 53
        }
      ]
    },
    {
      "cell_type": "markdown",
      "source": [
        "Matrix Multiplication"
      ],
      "metadata": {
        "id": "C39FKjDUjeOI"
      }
    },
    {
      "source": [
        "matrix1 = np.array([[1, 2], [3, 4]])\n",
        "matrix2 = np.array([[5, 6], [7, 8]])\n",
        "product_matrix = np.dot(matrix1, matrix2)\n",
        "product_matrix"
      ],
      "cell_type": "code",
      "metadata": {
        "id": "aCOtiEZ1jfLV",
        "outputId": "155b6b0a-fa11-451d-9d6b-0dd3238deb01",
        "colab": {
          "base_uri": "https://localhost:8080/"
        }
      },
      "execution_count": null,
      "outputs": [
        {
          "output_type": "execute_result",
          "data": {
            "text/plain": [
              "array([[19, 22],\n",
              "       [43, 50]])"
            ]
          },
          "metadata": {},
          "execution_count": 54
        }
      ]
    },
    {
      "cell_type": "markdown",
      "source": [
        "Determinant\n",
        "The determinant of a square matrix is a scalar value that provides information about its properties, such as invertibility."
      ],
      "metadata": {
        "id": "s5-V697NIvyx"
      }
    },
    {
      "cell_type": "code",
      "source": [],
      "metadata": {
        "id": "3TebYf4TI59_"
      },
      "execution_count": null,
      "outputs": []
    },
    {
      "cell_type": "code",
      "source": [],
      "metadata": {
        "id": "U2pS7ajJI-qL"
      },
      "execution_count": null,
      "outputs": []
    },
    {
      "source": [
        " import numpy as np\n",
        "matrix = np.array([[1, 2], [3, 4]])\n",
        "determinant = np.linalg.det(matrix)\n",
        "\n",
        "determinant"
      ],
      "cell_type": "code",
      "metadata": {
        "colab": {
          "base_uri": "https://localhost:8080/"
        },
        "id": "cZnOiMHMI-Rf",
        "outputId": "a0caab41-f03f-4919-cbf9-11a016de52f1"
      },
      "execution_count": 3,
      "outputs": [
        {
          "output_type": "execute_result",
          "data": {
            "text/plain": [
              "np.float64(-2.0000000000000004)"
            ]
          },
          "metadata": {},
          "execution_count": 3
        }
      ]
    },
    {
      "cell_type": "code",
      "source": [],
      "metadata": {
        "id": "SQ4HTO_PIvaq"
      },
      "execution_count": null,
      "outputs": []
    },
    {
      "cell_type": "code",
      "source": [],
      "metadata": {
        "id": "Q17DANqFjkJu"
      },
      "execution_count": null,
      "outputs": []
    }
  ]
}